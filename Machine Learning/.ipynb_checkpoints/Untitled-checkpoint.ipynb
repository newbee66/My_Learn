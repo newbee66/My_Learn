{
 "cells": [
  {
   "cell_type": "code",
   "execution_count": 7,
   "metadata": {},
   "outputs": [],
   "source": [
    "import numpy as np\n",
    "import plotly.graph_objects as go"
   ]
  },
  {
   "cell_type": "code",
   "execution_count": 8,
   "metadata": {},
   "outputs": [
    {
     "data": {
      "text/plain": [
       "array([0. , 0.5])"
      ]
     },
     "execution_count": 8,
     "metadata": {},
     "output_type": "execute_result"
    }
   ],
   "source": [
    "x = np.array([0,1])\n",
    "w = np.array([0.5,0.5])\n",
    "b = -0.7\n",
    "w*x"
   ]
  },
  {
   "cell_type": "code",
   "execution_count": 9,
   "metadata": {},
   "outputs": [
    {
     "data": {
      "text/plain": [
       "-0.19999999999999996"
      ]
     },
     "execution_count": 9,
     "metadata": {},
     "output_type": "execute_result"
    }
   ],
   "source": [
    "np.sum(w*x)+b"
   ]
  },
  {
   "cell_type": "code",
   "execution_count": 10,
   "metadata": {},
   "outputs": [
    {
     "data": {
      "text/plain": [
       "(array([[ 2,  8],\n",
       "        [ 6, 12]]), array([[ 6, 10],\n",
       "        [14, 24]]))"
      ]
     },
     "execution_count": 10,
     "metadata": {},
     "output_type": "execute_result"
    }
   ],
   "source": [
    "a = np.array([[1,2],\n",
    "              [3,4]])\n",
    "b = np.array([[2,4],\n",
    "              [2,3]])\n",
    "a*b,np.dot(a,b)"
   ]
  },
  {
   "cell_type": "code",
   "execution_count": 21,
   "metadata": {},
   "outputs": [],
   "source": [
    "def sigomd(x):\n",
    "    return 1/(1+np.exp(-x))\n",
    "x = np.arange(-10,10)\n",
    "y = sigomd(x)\n",
    "# scatter = go.Scatter(x=x,y=y)\n",
    "# fig = go.Figure(scatter)\n",
    "# fig.show()"
   ]
  },
  {
   "cell_type": "code",
   "execution_count": 22,
   "metadata": {},
   "outputs": [],
   "source": [
    "def asd(i):\n",
    "    if i<=0:\n",
    "        return 0\n",
    "    else:\n",
    "        return 1\n",
    "def zero_or_one(x):\n",
    "    y = [asd(i) for i in x]\n",
    "    return y\n",
    "x = np.arange(-10,10)\n",
    "y = zero_or_one(x)\n",
    "# scatter = go.Scatter(x=x,y=y)\n",
    "# fig = go.Figure(scatter)\n",
    "# fig.show()"
   ]
  },
  {
   "cell_type": "code",
   "execution_count": 37,
   "metadata": {},
   "outputs": [
    {
     "data": {
      "text/plain": [
       "1.0"
      ]
     },
     "execution_count": 37,
     "metadata": {},
     "output_type": "execute_result"
    }
   ],
   "source": [
    "def soft_max(arrays):\n",
    "    maxs = np.max(arrays)\n",
    "    exp_a = np.exp(arrays-maxs)\n",
    "    sums_exp = np.sum(exp_a)\n",
    "    y = exp_a/sums_exp\n",
    "    return y\n",
    "a = np.array([10.1,9.2,11.3])\n",
    "np.sum(soft_max(a))"
   ]
  },
  {
   "cell_type": "code",
   "execution_count": 45,
   "metadata": {},
   "outputs": [
    {
     "data": {
      "text/plain": [
       "0.09750000000000003"
      ]
     },
     "execution_count": 45,
     "metadata": {},
     "output_type": "execute_result"
    }
   ],
   "source": [
    "def loss(y,t):\n",
    "    return 0.5*(np.sum((y-t)**2))\n",
    "t = np.zeros(10)\n",
    "t[2] = 1\n",
    "y = np.array([0.1,0.05,0.6,0.0,0.05,0.1,0.0,0.1,0.0,0.0])\n",
    "loss(y,t)"
   ]
  },
  {
   "cell_type": "code",
   "execution_count": null,
   "metadata": {},
   "outputs": [],
   "source": []
  }
 ],
 "metadata": {
  "kernelspec": {
   "display_name": "Python 3",
   "language": "python",
   "name": "python3"
  },
  "language_info": {
   "codemirror_mode": {
    "name": "ipython",
    "version": 3
   },
   "file_extension": ".py",
   "mimetype": "text/x-python",
   "name": "python",
   "nbconvert_exporter": "python",
   "pygments_lexer": "ipython3",
   "version": "3.6.4"
  }
 },
 "nbformat": 4,
 "nbformat_minor": 2
}
