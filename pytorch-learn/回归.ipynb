{
 "cells": [
  {
   "cell_type": "code",
   "execution_count": null,
   "metadata": {},
   "outputs": [],
   "source": [
    "import torch\n",
    "import torch.nn\n",
    "import torch.nn.functional as F\n",
    "from torch.autograd import Variable\n",
    "import plotly.graph_objects as go\n",
    "import matplotlib.pyplot as plt"
   ]
  },
  {
   "cell_type": "markdown",
   "metadata": {},
   "source": [
    "# 生成数据"
   ]
  },
  {
   "cell_type": "code",
   "execution_count": null,
   "metadata": {},
   "outputs": [],
   "source": [
    "x = torch.unsqueeze(torch.linspace(-1,1,100),dim=1)\n",
    "y = x.pow(2)+torch.rand(x.size())*0.2\n",
    "x = Variable(x)\n",
    "y = Variable(y)\n",
    "# plt.scatter(x.numpy(), y.numpy())\n",
    "# plt.show()\n",
    "# scatter = go.Scatter(x=x.squeeze(1).data.numpy(),y=y.squeeze(1).data.numpy(),mode='markers')\n",
    "# fig = go.Figure(scatter)\n",
    "# fig.show()"
   ]
  },
  {
   "cell_type": "markdown",
   "metadata": {},
   "source": [
    "# 构建神经网络"
   ]
  },
  {
   "cell_type": "code",
   "execution_count": null,
   "metadata": {},
   "outputs": [],
   "source": [
    "class Net(torch.nn.Module): #继承\n",
    "    def __init__(self,n_feature,n_hidden,n_output):\n",
    "        super(Net,self).__init__()\n",
    "        self.hidden = torch.nn.Linear(n_feature,n_hidden) #从特征到隐藏层\n",
    "        self.predict = torch.nn.Linear(n_hidden,n_output) #从隐藏层到输出\n",
    "    def forward(self,x):\n",
    "        x = F.relu(self.hidden(x)) #激活函数\n",
    "        x = self.predict(x) #预测值\n",
    "        return x\n"
   ]
  },
  {
   "cell_type": "code",
   "execution_count": null,
   "metadata": {},
   "outputs": [],
   "source": [
    "net = Net(1,10,1)\n",
    "net"
   ]
  },
  {
   "cell_type": "markdown",
   "metadata": {},
   "source": [
    "# 损失函数"
   ]
  },
  {
   "cell_type": "code",
   "execution_count": null,
   "metadata": {},
   "outputs": [],
   "source": [
    "optimzer = torch.optim.SGD(net.parameters(),lr=0.5) #设置学习率为0.5,\n",
    "loss_func = torch.nn.MSELoss()"
   ]
  },
  {
   "cell_type": "markdown",
   "metadata": {},
   "source": [
    "# 开始训练 "
   ]
  },
  {
   "cell_type": "code",
   "execution_count": null,
   "metadata": {},
   "outputs": [],
   "source": [
    "# plt.ion()\n",
    "for t in range(1,201): #训练200次\n",
    "    prediction = net(x) #得到预测值\n",
    "    loss = loss_func(prediction,y) #通过损失函数得到损失\n",
    "    optimzer.zero_grad() #梯度设置为0\n",
    "    loss.backward() #反向传播\n",
    "    optimzer.step()\n",
    "    if t%10==0:\n",
    "        scat1 = go.Scatter(x=x.squeeze(1).data.numpy(),y=y.squeeze(1).data.numpy(),mode='markers',name='nature')\n",
    "        scat2 = go.Scatter(x=x.squeeze(1).data.numpy(),y=prediction.squeeze(1).data.numpy(),name='prediction')\n",
    "        fig = go.Figure([scat1,scat2])\n",
    "        fig.update_layout(\n",
    "            title='loss = %.4f' % loss.item() #图表的标题为每次的损失\n",
    "        )\n",
    "        fig.show()\n",
    "#         plt.cla()\n",
    "#         plt.scatter(x.data.numpy(), y.data.numpy())\n",
    "#         plt.plot(x.data.numpy(),prediction.data.numpy(),'r-',lw=5)\n",
    "#         plt.text(0.5, 0, 'Loss=%.4f' % loss.item(), fontdict={'size': 20, 'color':  'red'})\n",
    "#         plt.pause(0.1)\n",
    "# plt.ioff()\n",
    "# plt.show()\n",
    "        "
   ]
  },
  {
   "cell_type": "code",
   "execution_count": null,
   "metadata": {},
   "outputs": [],
   "source": []
  }
 ],
 "metadata": {
  "kernelspec": {
   "display_name": "Python 3",
   "language": "python",
   "name": "python3"
  },
  "language_info": {
   "codemirror_mode": {
    "name": "ipython",
    "version": 3
   },
   "file_extension": ".py",
   "mimetype": "text/x-python",
   "name": "python",
   "nbconvert_exporter": "python",
   "pygments_lexer": "ipython3",
   "version": "3.6.4"
  }
 },
 "nbformat": 4,
 "nbformat_minor": 2
}
