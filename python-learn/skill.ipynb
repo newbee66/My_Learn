{
 "cells": [
  {
   "cell_type": "markdown",
   "metadata": {},
   "source": [
    "# 两个数的交换"
   ]
  },
  {
   "cell_type": "code",
   "execution_count": 17,
   "metadata": {},
   "outputs": [
    {
     "name": "stdout",
     "output_type": "stream",
     "text": [
      "2 1\n"
     ]
    }
   ],
   "source": [
    "# a = 1\n",
    "# b = 2\n",
    "# temp = b\n",
    "# b = a\n",
    "# a = temp\n",
    "# print(a,b)\n",
    "\n",
    "a = 1\n",
    "b = 2\n",
    "a,b = b,a\n",
    "print(a,b)"
   ]
  },
  {
   "cell_type": "markdown",
   "metadata": {},
   "source": [
    "# 格式化字符串"
   ]
  },
  {
   "cell_type": "code",
   "execution_count": 18,
   "metadata": {},
   "outputs": [
    {
     "name": "stdout",
     "output_type": "stream",
     "text": [
      "wlb is 17 years old\n"
     ]
    }
   ],
   "source": [
    "a = 17\n",
    "name = \"wlb\"\n",
    "# print('%s is %d years old' %  (name,a))\n",
    "# print('{} is {} years old'.format(name,a))\n",
    "print(f'{name} is {a} years old') #明显这个方法更简单"
   ]
  },
  {
   "cell_type": "markdown",
   "metadata": {},
   "source": [
    "# Yield用法"
   ]
  },
  {
   "cell_type": "code",
   "execution_count": 19,
   "metadata": {},
   "outputs": [
    {
     "name": "stdout",
     "output_type": "stream",
     "text": [
      "0\n",
      "1\n",
      "1\n",
      "2\n",
      "3\n",
      "5\n",
      "8\n",
      "13\n",
      "21\n",
      "34\n"
     ]
    }
   ],
   "source": [
    "def fib(n):\n",
    "    a = 0\n",
    "    b = 1\n",
    "#     lists = []\n",
    "    for _ in range(n):\n",
    "#         lists.append(a)\n",
    "        yield  a\n",
    "        a,b = b,a+b\n",
    "#     return lists\n",
    "for i in fib(10):\n",
    "    print(i)\n",
    "#注释的内容与yield a效果相同，yield相当于使其成为一个迭代器 yield一个数后会立马传递出去，而return 要等列表都生成完毕后才会传出去\n",
    "#他的优势在于一些耗时的操作"
   ]
  },
  {
   "cell_type": "markdown",
   "metadata": {},
   "source": [
    "# 列表解析式"
   ]
  },
  {
   "cell_type": "code",
   "execution_count": 20,
   "metadata": {},
   "outputs": [
    {
     "data": {
      "text/plain": [
       "['http://www.baidu.com/page0',\n",
       " 'http://www.baidu.com/page1',\n",
       " 'http://www.baidu.com/page2',\n",
       " 'http://www.baidu.com/page3',\n",
       " 'http://www.baidu.com/page4',\n",
       " 'http://www.baidu.com/page5',\n",
       " 'http://www.baidu.com/page6',\n",
       " 'http://www.baidu.com/page7',\n",
       " 'http://www.baidu.com/page8',\n",
       " 'http://www.baidu.com/page9',\n",
       " 'http://www.baidu.com/page10',\n",
       " 'http://www.baidu.com/page11',\n",
       " 'http://www.baidu.com/page12',\n",
       " 'http://www.baidu.com/page13',\n",
       " 'http://www.baidu.com/page14',\n",
       " 'http://www.baidu.com/page15',\n",
       " 'http://www.baidu.com/page16',\n",
       " 'http://www.baidu.com/page17',\n",
       " 'http://www.baidu.com/page18',\n",
       " 'http://www.baidu.com/page19',\n",
       " 'http://www.baidu.com/page20']"
      ]
     },
     "execution_count": 20,
     "metadata": {},
     "output_type": "execute_result"
    }
   ],
   "source": [
    "lists = [f\"http://www.baidu.com/page{n}\" for n in range(21)]\n",
    "lists#此方法在爬虫构造urls中非常常用\n",
    "# lists = [f\"http://www.baidu.com/page{n}\" for n in range(21) if n%2==0] page偶数\n",
    "# alp = \"abcdefghigklmnopqrstuvwxyz\"\n",
    "# ALP = [n.upper() for n in alp] 将小写转换为大写"
   ]
  },
  {
   "cell_type": "markdown",
   "metadata": {},
   "source": [
    "# enumerate"
   ]
  },
  {
   "cell_type": "code",
   "execution_count": 21,
   "metadata": {},
   "outputs": [
    {
     "name": "stdout",
     "output_type": "stream",
     "text": [
      "0 apple\n",
      "1 banana\n",
      "2 cat\n",
      "3 dog\n"
     ]
    }
   ],
   "source": [
    "lists = ['apple','banana','cat','dog']\n",
    "for index,name in enumerate(lists):\n",
    "    print(index,name)"
   ]
  },
  {
   "cell_type": "markdown",
   "metadata": {},
   "source": [
    "# 字典的合并"
   ]
  },
  {
   "cell_type": "code",
   "execution_count": 22,
   "metadata": {},
   "outputs": [
    {
     "data": {
      "text/plain": [
       "{'handsome': True, 'height': 180, 'phone': 123456789, 'qq': 1683070754}"
      ]
     },
     "execution_count": 22,
     "metadata": {},
     "output_type": "execute_result"
    }
   ],
   "source": [
    "dic1 = {'qq':1683070754,\n",
    "        'phone':123456789\n",
    "       }\n",
    "dic2 = {\n",
    "    'height':180,\n",
    "    'handsome':True\n",
    "}\n",
    "dic3 = {**dic1,**dic2}\n",
    "#合并两个字典 **叫做解包\n",
    "#或者用dic1.update(dic2) 将dic2合并到dic1 相同键则dic2替代dic1\n",
    "dic3"
   ]
  },
  {
   "cell_type": "markdown",
   "metadata": {},
   "source": [
    "# 序列解包"
   ]
  },
  {
   "cell_type": "code",
   "execution_count": 23,
   "metadata": {},
   "outputs": [
    {
     "name": "stdout",
     "output_type": "stream",
     "text": [
      "wang lingbo\n"
     ]
    }
   ],
   "source": [
    "name = \"wang lingbo\"\n",
    "xing,ming = name.split(\" \") #split返回一个序列，分别赋给xing 和ming\n",
    "print(xing,ming)"
   ]
  },
  {
   "cell_type": "markdown",
   "metadata": {},
   "source": [
    "# 匿名函数lambda"
   ]
  },
  {
   "cell_type": "code",
   "execution_count": 24,
   "metadata": {},
   "outputs": [
    {
     "name": "stdout",
     "output_type": "stream",
     "text": [
      "<map object at 0x000001911C8E03C8>\n",
      "[1, 4, 9, 16, 25, 36]\n"
     ]
    }
   ],
   "source": [
    "lists = [1,2,3,4,5,6]\n",
    "maps = map(lambda x:x*x,lists)\n",
    "print(maps)\n",
    "print(list(maps))"
   ]
  },
  {
   "cell_type": "markdown",
   "metadata": {},
   "source": [
    "# 装饰器"
   ]
  },
  {
   "cell_type": "code",
   "execution_count": 25,
   "metadata": {},
   "outputs": [
    {
     "name": "stdout",
     "output_type": "stream",
     "text": [
      "inner  enter in say()\n",
      "hello!  wlb\n"
     ]
    }
   ],
   "source": [
    "def logging(level):\n",
    "    def wapper(func):\n",
    "        def inner_wapper(*args, **wbargs):\n",
    "            print(f'{level}  enter in {func.__name__}()')\n",
    "            return func(*args, **wbargs) #不写return 也可以\n",
    "        return inner_wapper\n",
    "    return wapper\n",
    "@logging('inner')\n",
    "def say(a):\n",
    "    print('hello!  {}'.format(a))\n",
    "say('wlb')"
   ]
  },
  {
   "cell_type": "code",
   "execution_count": 26,
   "metadata": {},
   "outputs": [
    {
     "name": "stdout",
     "output_type": "stream",
     "text": [
      "my_name()调用于Wed Dec  9 21:21:00 2020\n",
      "look!wlb\n"
     ]
    }
   ],
   "source": [
    "import time\n",
    "def print_time(func):\n",
    "    def wapper(*args,**wbargs):\n",
    "        print(f'{func.__name__}()调用于{time.asctime(time.localtime(time.time()))}')\n",
    "        return func(*args,**wbargs) #不写return 也可以\n",
    "    return wapper\n",
    "@print_time\n",
    "def my_name(name):\n",
    "    print(f'look!{name}')\n",
    "my_name(\"wlb\")"
   ]
  },
  {
   "cell_type": "markdown",
   "metadata": {},
   "source": [
    "# map和reduce"
   ]
  },
  {
   "cell_type": "code",
   "execution_count": 54,
   "metadata": {},
   "outputs": [
    {
     "name": "stdout",
     "output_type": "stream",
     "text": [
      "[1, 2, 3, 4, 5]\n",
      "21\n"
     ]
    }
   ],
   "source": [
    "print(list(map(abs,[-1,-2,-3,-4,-5]))) #也可以自己定义函数或者用匿名函数\n",
    "from functools import reduce #python3中需要从内置库导入\n",
    "\n",
    "print(reduce(lambda x,y:x+y,list(map(int,str(131351412)))))"
   ]
  },
  {
   "cell_type": "markdown",
   "metadata": {},
   "source": [
    "# join()"
   ]
  },
  {
   "cell_type": "code",
   "execution_count": 28,
   "metadata": {},
   "outputs": [
    {
     "data": {
      "text/plain": [
       "'12345'"
      ]
     },
     "execution_count": 28,
     "metadata": {},
     "output_type": "execute_result"
    }
   ],
   "source": [
    "# lists = ['1','2','3','4','5']\n",
    "# ''.join(lists)\n",
    "lists = [1,2,3,4,5]\n",
    "''.join(list(map(str,lists))) #join只能是字符串列表，所以要map转换一下"
   ]
  },
  {
   "cell_type": "markdown",
   "metadata": {},
   "source": [
    "# 将多维数组转换为一维"
   ]
  },
  {
   "cell_type": "code",
   "execution_count": 49,
   "metadata": {},
   "outputs": [
    {
     "name": "stdout",
     "output_type": "stream",
     "text": [
      "[1, 2, 3, 5, 8, 7, 8, 9]\n",
      "[list([1, 2, 3]) list([5, 8]) list([7, 8, 9])]\n"
     ]
    }
   ],
   "source": [
    "ab = [[1, 2, 3], [5, 8], [7, 8, 9]]\n",
    "print([i for item in ab for i in item]) #利用列表解析式"
   ]
  },
  {
   "cell_type": "markdown",
   "metadata": {},
   "source": [
    "# 将一个列表倒序"
   ]
  },
  {
   "cell_type": "code",
   "execution_count": 30,
   "metadata": {},
   "outputs": [
    {
     "data": {
      "text/plain": [
       "[4, 5, 2, 3, 4, 2]"
      ]
     },
     "execution_count": 30,
     "metadata": {},
     "output_type": "execute_result"
    }
   ],
   "source": [
    "lists = [2,4,3,2,5,4]\n",
    "lists[::-1]\n",
    "# list(reversed(lists))"
   ]
  },
  {
   "cell_type": "markdown",
   "metadata": {},
   "source": [
    "# 检查两个列表中所有的数是否一样"
   ]
  },
  {
   "cell_type": "code",
   "execution_count": 31,
   "metadata": {},
   "outputs": [
    {
     "data": {
      "text/plain": [
       "True"
      ]
     },
     "execution_count": 31,
     "metadata": {},
     "output_type": "execute_result"
    }
   ],
   "source": [
    "lists = [1,1,1,1]\n",
    "lists[1:] == lists[:-1]"
   ]
  },
  {
   "cell_type": "markdown",
   "metadata": {},
   "source": [
    "# 随机生成密码"
   ]
  },
  {
   "cell_type": "code",
   "execution_count": 33,
   "metadata": {},
   "outputs": [
    {
     "name": "stdout",
     "output_type": "stream",
     "text": [
      "0KmtEZSU\n"
     ]
    }
   ],
   "source": [
    "import random\n",
    "b = 8\n",
    "t = 'abcdefghijklmnopqrstuvwxyzABCDEFGHIJKLMNOPQRSTUVWXYZ1234567890'\n",
    "print(''.join(random.sample(t,b)))"
   ]
  },
  {
   "cell_type": "markdown",
   "metadata": {},
   "source": [
    "# filter"
   ]
  },
  {
   "cell_type": "code",
   "execution_count": 35,
   "metadata": {},
   "outputs": [
    {
     "data": {
      "text/plain": [
       "[1, 3, 5, 7, 9]"
      ]
     },
     "execution_count": 35,
     "metadata": {},
     "output_type": "execute_result"
    }
   ],
   "source": [
    "a = [1,2,3,4,5,6,7,8,9]\n",
    "new_a = filter(lambda x:x%2!=0,a) #filter就是筛选\n",
    "list(new_a)"
   ]
  },
  {
   "cell_type": "markdown",
   "metadata": {},
   "source": [
    "# 断言"
   ]
  },
  {
   "cell_type": "code",
   "execution_count": 41,
   "metadata": {},
   "outputs": [
    {
     "name": "stdout",
     "output_type": "stream",
     "text": [
      "yes\n"
     ]
    }
   ],
   "source": [
    "assert(True is True) #成功\n",
    "print('yes')\n",
    "assert(True is False) #报错\n",
    "print('no')"
   ]
  },
  {
   "cell_type": "markdown",
   "metadata": {},
   "source": [
    "# 合并列表"
   ]
  },
  {
   "cell_type": "code",
   "execution_count": 45,
   "metadata": {},
   "outputs": [
    {
     "name": "stdout",
     "output_type": "stream",
     "text": [
      "[1, 2, 31, 13, 5, 2, 12, 32]\n"
     ]
    }
   ],
   "source": [
    "list1 = [1,2,31,13]\n",
    "list2 = [5,2,12,32]\n",
    "# list1.append(list2)\n",
    "# print(list1) #错误方法\n",
    "list1.extend(list2)\n",
    "print(list1) #正确方法"
   ]
  },
  {
   "cell_type": "code",
   "execution_count": 55,
   "metadata": {},
   "outputs": [
    {
     "name": "stdout",
     "output_type": "stream",
     "text": [
      "{1: 'a', 2: 'b', 3: 'c', 4: 'd', 5: 'e'}\n"
     ]
    }
   ],
   "source": [
    "a = [1,2,3,4,5]\n",
    "b = ['a','b','c','d','e']\n",
    "fin = dict()\n",
    "for k,i in zip(a,b):\n",
    "    fin[k] = i\n",
    "print(fin)"
   ]
  }
 ],
 "metadata": {
  "kernelspec": {
   "display_name": "Python 3",
   "language": "python",
   "name": "python3"
  },
  "language_info": {
   "codemirror_mode": {
    "name": "ipython",
    "version": 3
   },
   "file_extension": ".py",
   "mimetype": "text/x-python",
   "name": "python",
   "nbconvert_exporter": "python",
   "pygments_lexer": "ipython3",
   "version": "3.6.4"
  }
 },
 "nbformat": 4,
 "nbformat_minor": 2
}
