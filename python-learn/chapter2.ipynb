{
 "cells": [
  {
   "cell_type": "code",
   "execution_count": null,
   "metadata": {},
   "outputs": [],
   "source": [
    "1．布尔数据类型的两个值是什么？如何拼写？ \n",
    "2．3 个布尔操作符是什么？\n",
    "3．写出每个布尔操作符的真值表（也就是操作数的每种可能组合，以及操作\n",
    "的结果）。\n",
    "4．以下表达式求值的结果是什么？\n",
    "(5 > 4) and (3 == 5)\n",
    "not (5 > 4)\n",
    "(5 > 4) or (3 == 5)\n",
    "not ((5 > 4) or (3 == 5))\n",
    "(True and True) and (True == False)\n",
    "(not False) or (not True)\n",
    "5．6 个比较操作符是什么？\n",
    "6．等于操作符和赋值操作符的区别是什么？\n",
    "7．解释什么是条件，可以在哪里使用条件。\n",
    "8．识别这段代码中的 3 个语句块：\n",
    "spam = 0\n",
    "if spam == 10:\n",
    "print('eggs')\n",
    "if spam > 5:\n",
    "print('bacon')\n",
    "else:\n",
    "print('ham')\n",
    "print('spam')\n",
    "print('spam')\n",
    "9．编写代码，如果变量 spam 中存放 1，就打印 Hello，如果变量中存放 2，就\n",
    "打印 Howdy，如果变量中存放其他值，就打印 Greetings!\n",
    "10．如果程序陷在一个无限循环中，你可以按什么键？\n",
    "11．break 和 continue 之间的区别是什么？\n",
    "12．在 for 循环中，range(10)、range(0, 10)和 range(0, 10, 1)之间的区别是什么？\n",
    "13．编写一小段程序，利用 for 循环，打印出从 1 到 10 的数字。然后利用 while\n",
    "循环，编写一个等价的程序，打印出从 1 到 10 的数字。\n",
    "14．如果在名为 spam 的模块中，有一个名为 bacon()的函数，那么在导入 spam\n",
    "模块后，如何调用它？"
   ]
  },
  {
   "cell_type": "code",
   "execution_count": null,
   "metadata": {},
   "outputs": [],
   "source": [
    "# 1.True 和 False\n",
    "# 2.and or not\n",
    "# 3.True and True ----True\n",
    "#   True and False ----False\n",
    "#   False and False ----False\n",
    "#   True or True ----True\n",
    "#   True or False ----True\n",
    "#   False or False ----False\n",
    "#   not True ---- False\n",
    "# 4.  False\n",
    "#     False\n",
    "#     True\n",
    "#     False\n",
    "#     False\n",
    "#     True\n",
    "# 5.> <  ==  >= <= !=\n",
    "# 6.等于操作符:==  赋值操作符:=\n",
    "# 7.条件就是一种情况，其结果只有True或False\n",
    "# 可以在if语句等需要bool型操作中使用条件\n",
    "# 8.略"
   ]
  },
  {
   "cell_type": "code",
   "execution_count": 1,
   "metadata": {},
   "outputs": [
    {
     "name": "stdout",
     "output_type": "stream",
     "text": [
      "Hello\n"
     ]
    }
   ],
   "source": [
    "#9----\n",
    "spam = 1\n",
    "if spam == 1:\n",
    "    print(\"Hello\")\n",
    "elif spam == 2:\n",
    "    print(\"Howdy\")\n",
    "else:\n",
    "    print(\"Greetings!\")"
   ]
  },
  {
   "cell_type": "code",
   "execution_count": 2,
   "metadata": {},
   "outputs": [],
   "source": [
    "# 10.ctrl+c\n",
    "# 11.break将整个循环结束\n",
    "#     continue不结束整个循环 只是结束本次循环\n",
    "# 12.三者效果相同，不过range(0,10)规定了起始,range(0,10,1)另外规定了步长"
   ]
  },
  {
   "cell_type": "code",
   "execution_count": 4,
   "metadata": {},
   "outputs": [
    {
     "name": "stdout",
     "output_type": "stream",
     "text": [
      "1\n",
      "2\n",
      "3\n",
      "4\n",
      "5\n",
      "6\n",
      "7\n",
      "8\n",
      "9\n",
      "10\n",
      "\n",
      "\n",
      "1\n",
      "2\n",
      "3\n",
      "4\n",
      "5\n",
      "6\n",
      "7\n",
      "8\n",
      "9\n",
      "10\n"
     ]
    }
   ],
   "source": [
    "# 13\n",
    "for i in range(1,11):\n",
    "    print(i)\n",
    "print(\"\\n\")\n",
    "\n",
    "n = 1\n",
    "while n<=10:\n",
    "    print(n)\n",
    "    n+=1"
   ]
  },
  {
   "cell_type": "code",
   "execution_count": null,
   "metadata": {},
   "outputs": [],
   "source": [
    "#14 import spam   sapm.bacon()"
   ]
  }
 ],
 "metadata": {
  "kernelspec": {
   "display_name": "Python 3",
   "language": "python",
   "name": "python3"
  },
  "language_info": {
   "codemirror_mode": {
    "name": "ipython",
    "version": 3
   },
   "file_extension": ".py",
   "mimetype": "text/x-python",
   "name": "python",
   "nbconvert_exporter": "python",
   "pygments_lexer": "ipython3",
   "version": "3.6.4"
  }
 },
 "nbformat": 4,
 "nbformat_minor": 2
}
